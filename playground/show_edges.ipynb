{
 "cells": [
  {
   "cell_type": "code",
   "execution_count": 3,
   "metadata": {},
   "outputs": [
    {
     "name": "stdout",
     "output_type": "stream",
     "text": [
      "\n",
      "Initial data shapes:\n",
      "Edge Index: (18, 1)\n",
      "Edge Attributes: (18, 1)\n",
      "Node Coordinates: (18, 2)\n",
      "[[47.53305556  7.58305556]\n",
      " [47.51083333 19.02055556]\n",
      " [52.10166667  5.17777778]\n",
      " [51.11666667 13.68305556]\n",
      " [51.2275      6.77333333]\n",
      " [51.47888889  0.44916667]\n",
      " [51.29777778  9.44361111]\n",
      " [46.06555556 14.51222222]\n",
      " [50.90527778  5.76166667]\n",
      " [55.60972222 13.08      ]\n",
      " [44.58083333  4.73305556]\n",
      " [48.16416667 11.54305556]\n",
      " [59.94222222 10.72      ]\n",
      " [42.73694444  2.87055556]\n",
      " [41.78305556 12.58305556]\n",
      " [47.04972222 12.94972222]\n",
      " [59.35       18.05      ]\n",
      " [47.44388889  0.72777778]]\n"
     ]
    }
   ],
   "source": [
    "import numpy as np\n",
    "\n",
    "# edge_index = np.load('weather_prediction_dataset-main/cs886_project/features/edge_index.npy')\n",
    "edge_index = np.load('/Users/ahbo/TemperatureForecast/features/edge_attr.npy')\n",
    "\n",
    "edge_attr = np.load('/Users/ahbo/TemperatureForecast/features/edge_attr.npy') \n",
    "node_coor = np.load('/Users/ahbo/TemperatureForecast/features/node_coor.npy')\n",
    "\n",
    "print(\"\\nInitial data shapes:\")\n",
    "\n",
    "print(f\"Edge Index: {edge_index.shape}\")\n",
    "print(f\"Edge Attributes: {edge_attr.shape}\")\n",
    "print(f\"Node Coordinates: {node_coor.shape}\")\n",
    "\n",
    "print(node_coor)"
   ]
  },
  {
   "cell_type": "code",
   "execution_count": 3,
   "metadata": {},
   "outputs": [
    {
     "name": "stdout",
     "output_type": "stream",
     "text": [
      "Data(x=[18, 20], edge_index=[2, 18], edge_attr=[18, 1], y=[18], feature_names=[20], station_names=[18], y_names=[18])\n",
      "['year_1674', 'month_sin_1674', 'month_cos_1674', 'day_sin_1674', 'day_cos_1674', 'x_1674', 'y_1674', 'z_1674', 'sin_lat_scaled_1674', 'cos_lat_scaled_1674', 'sin_lon_scaled_1674', 'cos_lon_scaled_1674', 'sunshine_1674', 'humidity_1674', 'temp_mean_1674', 'precipitation_1674', 'temp_min_1674', 'global_radiation_1674', 'temp_max_1674', 'pressure_1674']\n",
      "temp_mean_1674\n",
      "['temp_mean_BASEL_1675', 'temp_mean_BUDAPEST_1675', 'temp_mean_DE_BILT_1675', 'temp_mean_DRESDEN_1675', 'temp_mean_DUSSELDORF_1675', 'temp_mean_HEATHROW_1675', 'temp_mean_KASSEL_1675', 'temp_mean_LJUBLJANA_1675', 'temp_mean_MAASTRICHT_1675', 'temp_mean_MALMO_1675', 'temp_mean_MONTELIMAR_1675', 'temp_mean_MUENCHEN_1675', 'temp_mean_OSLO_1675', 'temp_mean_PERPIGNAN_1675', 'temp_mean_ROMA_1675', 'temp_mean_SONNBLICK_1675', 'temp_mean_STOCKHOLM_1675', 'temp_mean_TOURS_1675']\n"
     ]
    }
   ],
   "source": [
    "import pickle\n",
    "# print first few rows of /Users/ahbo/Desktop/CS886 Midterm Project/weather_prediction_dataset-main/cs886_project/features/train_graph_batches.pkl\n",
    "\n",
    "train_graph_batches = pickle.load(open('/Users/ahbo/TemperatureForecast/features/train_graph_data.pkl', 'rb'))\n",
    "print(train_graph_batches[1])\n",
    "print(train_graph_batches[1].feature_names)\n",
    "print(train_graph_batches[1].feature_names[-6])\n",
    "print(train_graph_batches[1].y_names)"
   ]
  }
 ],
 "metadata": {
  "kernelspec": {
   "display_name": "Python 3",
   "language": "python",
   "name": "python3"
  },
  "language_info": {
   "codemirror_mode": {
    "name": "ipython",
    "version": 3
   },
   "file_extension": ".py",
   "mimetype": "text/x-python",
   "name": "python",
   "nbconvert_exporter": "python",
   "pygments_lexer": "ipython3",
   "version": "3.12.9"
  }
 },
 "nbformat": 4,
 "nbformat_minor": 2
}
