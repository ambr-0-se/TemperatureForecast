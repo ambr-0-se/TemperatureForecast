{
 "cells": [
  {
   "cell_type": "code",
   "execution_count": 11,
   "metadata": {},
   "outputs": [
    {
     "name": "stdout",
     "output_type": "stream",
     "text": [
      "\n",
      "Initial data shapes:\n",
      "Edge Index: (2, 180)\n",
      "Edge Attributes: (180, 1)\n",
      "Node Coordinates: (18, 2)\n"
     ]
    }
   ],
   "source": [
    "import numpy as np\n",
    "\n",
    "# edge_index = np.load('weather_prediction_dataset-main/cs886_project/features/edge_index.npy')\n",
    "edge_index = np.load('features/edge_index.npy')\n",
    "\n",
    "edge_attr = np.load('features/edge_attr.npy') \n",
    "node_coor = np.load('features/node_coor.npy')\n",
    "\n",
    "print(\"\\nInitial data shapes:\")\n",
    "\n",
    "print(f\"Edge Index: {edge_index.shape}\")\n",
    "print(f\"Edge Attributes: {edge_attr.shape}\")\n",
    "print(f\"Node Coordinates: {node_coor.shape}\")"
   ]
  },
  {
   "cell_type": "code",
   "execution_count": 10,
   "metadata": {},
   "outputs": [
    {
     "name": "stdout",
     "output_type": "stream",
     "text": [
      "Data(x=[18, 35], edge_index=[2, 16], edge_attr=[16, 1], y=[18], feature_names=[35], station_names=[18], y_names=[18])\n",
      "['global_radiation_3598', 'temp_mean_3598', 'humidity_3598', 'pressure_3598', 'temp_min_3598', 'precipitation_3598', 'temp_max_3598', 'global_radiation_3599', 'temp_mean_3599', 'humidity_3599', 'pressure_3599', 'temp_min_3599', 'precipitation_3599', 'temp_max_3599', 'global_radiation_3600', 'temp_mean_3600', 'humidity_3600', 'pressure_3600', 'temp_min_3600', 'precipitation_3600', 'temp_max_3600', 'global_radiation_3601', 'temp_mean_3601', 'humidity_3601', 'pressure_3601', 'temp_min_3601', 'precipitation_3601', 'temp_max_3601', 'global_radiation_3602', 'temp_mean_3602', 'humidity_3602', 'pressure_3602', 'temp_min_3602', 'precipitation_3602', 'temp_max_3602']\n",
      "temp_mean_3602\n",
      "['temp_mean_BASEL_3603', 'temp_mean_BUDAPEST_3603', 'temp_mean_DE_BILT_3603', 'temp_mean_DRESDEN_3603', 'temp_mean_DUSSELDORF_3603', 'temp_mean_HEATHROW_3603', 'temp_mean_KASSEL_3603', 'temp_mean_LJUBLJANA_3603', 'temp_mean_MAASTRICHT_3603', 'temp_mean_MALMO_3603', 'temp_mean_MONTELIMAR_3603', 'temp_mean_MUENCHEN_3603', 'temp_mean_OSLO_3603', 'temp_mean_PERPIGNAN_3603', 'temp_mean_ROMA_3603', 'temp_mean_SONNBLICK_3603', 'temp_mean_STOCKHOLM_3603', 'temp_mean_TOURS_3603']\n"
     ]
    }
   ],
   "source": [
    "import pickle\n",
    "# print first few rows of /Users/ahbo/Desktop/CS886 Midterm Project/weather_prediction_dataset-main/cs886_project/features/train_graph_batches.pkl\n",
    "\n",
    "train_graph_batches = pickle.load(open('/Users/ahbo/Desktop/CS886 Midterm Project/weather_prediction_dataset-main/cs886_project/features/train_graph_batches.pkl', 'rb'))\n",
    "print(train_graph_batches[1])\n",
    "print(train_graph_batches[1].feature_names)\n",
    "print(train_graph_batches[1].feature_names[-6])\n",
    "print(train_graph_batches[1].y_names)"
   ]
  }
 ],
 "metadata": {
  "kernelspec": {
   "display_name": "weather_forecast",
   "language": "python",
   "name": "python3"
  },
  "language_info": {
   "codemirror_mode": {
    "name": "ipython",
    "version": 3
   },
   "file_extension": ".py",
   "mimetype": "text/x-python",
   "name": "python",
   "nbconvert_exporter": "python",
   "pygments_lexer": "ipython3",
   "version": "3.8.18"
  }
 },
 "nbformat": 4,
 "nbformat_minor": 2
}
